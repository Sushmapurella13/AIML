{
  "nbformat": 4,
  "nbformat_minor": 0,
  "metadata": {
    "colab": {
      "provenance": [],
      "authorship_tag": "ABX9TyOYdHEiklnUQOLDSilDJjey",
      "include_colab_link": true
    },
    "kernelspec": {
      "name": "python3",
      "display_name": "Python 3"
    },
    "language_info": {
      "name": "python"
    }
  },
  "cells": [
    {
      "cell_type": "markdown",
      "metadata": {
        "id": "view-in-github",
        "colab_type": "text"
      },
      "source": [
        "<a href=\"https://colab.research.google.com/github/Sushmapurella13/AIML/blob/main/2303A52188%20AIML-ASGN1.ipynb\" target=\"_parent\"><img src=\"https://colab.research.google.com/assets/colab-badge.svg\" alt=\"Open In Colab\"/></a>"
      ]
    },
    {
      "cell_type": "code",
      "execution_count": 5,
      "metadata": {
        "colab": {
          "base_uri": "https://localhost:8080/"
        },
        "id": "QtK1z-i6_-oL",
        "outputId": "94b9bfaa-dbca-4472-a7bd-8bf13b4651ed"
      },
      "outputs": [
        {
          "output_type": "stream",
          "name": "stdout",
          "text": [
            "[1, 3, 4, 5, 2, 3]\n",
            "[1 3 4 5 2 3]\n",
            "<IntegerArray>\n",
            "[1, 3, 4, 5, 2, 3]\n",
            "Length: 6, dtype: Int64\n",
            "<class 'list'>\n"
          ]
        }
      ],
      "source": [
        "import numpy as np\n",
        "import pandas as pd\n",
        "\n",
        "a=[1,3,4,5,2,3]\n",
        "print(a)\n",
        "print(np.array(a))\n",
        "print(pd.array(a))\n",
        "print(type(a))\n"
      ]
    },
    {
      "cell_type": "code",
      "source": [
        "s=[2,4,5,6,7]\n",
        "b=[2,5,7,8,4]\n",
        "import numpy as np\n",
        "m=np.array(s)\n",
        "v=np.array(b)\n",
        "print(m*v)\n",
        "print(m/v)\n",
        "print(np.power(m,v))\n",
        "print(m+v)\n",
        "print(\"subtraction:\",m-v)"
      ],
      "metadata": {
        "colab": {
          "base_uri": "https://localhost:8080/"
        },
        "id": "Ruv8r2XzHgBR",
        "outputId": "54719c15-8cbf-4670-c34f-9bbfdfaaec42"
      },
      "execution_count": 18,
      "outputs": [
        {
          "output_type": "stream",
          "name": "stdout",
          "text": [
            "[ 4 20 35 48 28]\n",
            "[1.         0.8        0.71428571 0.75       1.75      ]\n",
            "[      4    1024   78125 1679616    2401]\n",
            "[ 4  9 12 14 11]\n",
            "subtraction: [ 0 -1 -2 -2  3]\n"
          ]
        }
      ]
    },
    {
      "cell_type": "code",
      "source": [
        "print(np.sin(90))\n",
        "print(np.cos(90))\n",
        "print(np.tan(90))\n",
        "print(np.log(10))\n",
        "print(np.log2(10))\n",
        "print(np.exp(10))"
      ],
      "metadata": {
        "colab": {
          "base_uri": "https://localhost:8080/"
        },
        "id": "r12SthYSKJ-Z",
        "outputId": "37a1077b-afe3-475f-b846-1955039734c2"
      },
      "execution_count": 17,
      "outputs": [
        {
          "output_type": "stream",
          "name": "stdout",
          "text": [
            "0.8939966636005579\n",
            "-0.4480736161291701\n",
            "-1.995200412208242\n",
            "2.302585092994046\n",
            "3.321928094887362\n",
            "22026.465794806718\n"
          ]
        }
      ]
    },
    {
      "cell_type": "code",
      "source": [],
      "metadata": {
        "id": "wcqxgQFcHgYU"
      },
      "execution_count": null,
      "outputs": []
    }
  ]
}